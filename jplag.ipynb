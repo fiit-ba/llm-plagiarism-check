{
 "cells": [
  {
   "cell_type": "code",
   "execution_count": null,
   "metadata": {},
   "outputs": [],
   "source": [
    "import json\n",
    "import os\n",
    "\n",
    "import pandas as pd\n",
    "from tqdm import tqdm\n",
    "\n",
    "from dataloader import build_eval_dataset\n"
   ]
  },
  {
   "cell_type": "code",
   "execution_count": null,
   "metadata": {},
   "outputs": [],
   "source": [
    "DATA_FOLDER = \"data/IR-Plag-Dataset\"\n",
    "eval_df = build_eval_dataset(DATA_FOLDER)\n",
    "eval_df"
   ]
  },
  {
   "cell_type": "code",
   "execution_count": null,
   "metadata": {},
   "outputs": [],
   "source": [
    "def get_similarities() -> tuple:\n",
    "    base_path = \"data/jplag/results\"\n",
    "    file_names = [\n",
    "        \"sample_2_sample_2.java-sample_1_sample_1.java.json\",\n",
    "        \"sample_1_sample_1.java-sample_2_sample_2.java.json\",\n",
    "    ]\n",
    "\n",
    "    for file_name in file_names:\n",
    "        file_path = os.path.join(base_path, file_name)\n",
    "        if os.path.exists(file_path):\n",
    "            with open(file_path) as f:\n",
    "                data = json.load(f)\n",
    "            return data[\"first_similarity\"], data[\"second_similarity\"]\n",
    "\n",
    "    raise FileNotFoundError(\n",
    "        \"No matching similarity file found in the results directory.\"\n",
    "    )\n",
    "\n",
    "\n",
    "first, second = [], []\n",
    "\n",
    "jplag_df = eval_df.copy()\n",
    "for _, row in tqdm(eval_df.iterrows(), total=eval_df.shape[0]):\n",
    "    try:\n",
    "        sample_1 = row[\"sample_1\"]\n",
    "        sample_2 = row[\"sample_2\"]\n",
    "\n",
    "        folder_path = \"data/jplag/{name}\"\n",
    "\n",
    "        # create folder\n",
    "        os.makedirs(folder_path.format(name=\"sample_1\"), exist_ok=True)\n",
    "        os.makedirs(folder_path.format(name=\"sample_2\"), exist_ok=True)\n",
    "\n",
    "        # in sample_1 folder create file with content of sample_1\n",
    "        with open(folder_path.format(name=\"sample_1\") + \"/sample_1.java\", \"w\") as f:\n",
    "            f.write(sample_1)\n",
    "\n",
    "        # in sample_2 folder create file with content of sample_2\n",
    "        with open(folder_path.format(name=\"sample_2\") + \"/sample_2.java\", \"w\") as f:\n",
    "            f.write(sample_2)\n",
    "\n",
    "        # run this command - jplag -l java -r /data/jplag/jplag_results data/jplag/test_1 data/jplag/test_2\n",
    "        os.system(\n",
    "            \"java -jar /Users/williambrach/Developer/jplag/jplag-5.1.0-jar-with-dependencies.jar -l java -r data/jplag/jplag_results data/jplag/sample_1 data/jplag/sample_2\"\n",
    "        )\n",
    "        # time.sleep(1)\n",
    "        # # unzip /data/jplag/jplag_results\n",
    "        os.system(\"unzip data/jplag/jplag_results -d data/jplag/results\")\n",
    "        # time.sleep(1)\n",
    "        # get similarities\n",
    "        similarities = get_similarities()\n",
    "        first.append(similarities[0])\n",
    "        second.append(similarities[1])\n",
    "    except Exception as e:\n",
    "        # print all files in data/jplag/results/\n",
    "        print(os.listdir(\"data/jplag/results\"))\n",
    "        print(e)\n",
    "        break\n",
    "    finally:\n",
    "        # clean up the folders\n",
    "        os.system(\"rm -rf data/jplag/sample_1\")\n",
    "        os.system(\"rm -rf data/jplag/sample_2\")\n",
    "        os.system(\"rm -rf data/jplag/results\")\n",
    "        os.system(\"rm -rf data/jplag/jplag_results.zip\")\n",
    "\n",
    "jplag_df[\"jplag_similarity_1\"] = first\n",
    "jplag_df[\"jplag_similarity_2\"] = second\n",
    "jplag_df.to_csv(\"data/results/jplag_results.csv\", index=False)"
   ]
  },
  {
   "cell_type": "code",
   "execution_count": 14,
   "metadata": {},
   "outputs": [],
   "source": [
    "df = pd.read_csv(\"data/results/jplag_results.csv\")\n",
    "df[\"avg_similarity\"] = round(\n",
    "    (df[\"jplag_similarity_1\"] + df[\"jplag_similarity_2\"]) / 2, 3\n",
    ")\n",
    "for thrashhold in [0.3, 0.5, 0.7, 0.75, 0.9]:\n",
    "    x = df.copy()\n",
    "    x[\"pred_predicted\"] = df[\"avg_similarity\"] > thrashhold\n",
    "    x[\"pred_explanation\"] = \"\"\n",
    "    x.to_csv(f\"data/results/jplag_results_{thrashhold}.csv\", index=False)"
   ]
  }
 ],
 "metadata": {
  "kernelspec": {
   "display_name": "dspy",
   "language": "python",
   "name": "python3"
  },
  "language_info": {
   "codemirror_mode": {
    "name": "ipython",
    "version": 3
   },
   "file_extension": ".py",
   "mimetype": "text/x-python",
   "name": "python",
   "nbconvert_exporter": "python",
   "pygments_lexer": "ipython3",
   "version": "3.12.3"
  }
 },
 "nbformat": 4,
 "nbformat_minor": 2
}
