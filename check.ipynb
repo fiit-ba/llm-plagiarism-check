{
 "cells": [
  {
   "cell_type": "code",
   "execution_count": 108,
   "metadata": {},
   "outputs": [],
   "source": [
    "import os\n",
    "\n",
    "import dspy\n",
    "from dspy.teleprompt import BootstrapFewShot\n",
    "from dspy.evaluate import Evaluate\n",
    "import pandas as pd\n",
    "from dotenv import load_dotenv\n",
    "\n",
    "from dataloader import build_eval_dataset, check_if_data_folder_exits"
   ]
  },
  {
   "cell_type": "code",
   "execution_count": 113,
   "metadata": {},
   "outputs": [
    {
     "name": "stdout",
     "output_type": "stream",
     "text": [
      "The folder 'data/IR-Plag-Dataset' exists. You can proceed with loading the data.\n"
     ]
    }
   ],
   "source": [
    "# load environment variables\n",
    "load_dotenv()\n",
    "\n",
    "AZURE_OPENAI_KEY = os.getenv(\"AZURE_OPENAI_KEY\")\n",
    "AZURE_OPENAI_ENDPOINT = os.getenv(\"AZURE_OPENAI_ENDPOINT\")\n",
    "AZURE_OPENAI_DEPLOYMENT = os.getenv(\"AZURE_OPENAI_DEPLOYMENT\")\n",
    "AZURE_OPENAI_VERSION = os.getenv(\"AZURE_OPENAI_VERSION\")\n",
    "\n",
    "DATA_FOLDER = \"data/IR-Plag-Dataset\"\n",
    "check_if_data_folder_exits(DATA_FOLDER)"
   ]
  },
  {
   "cell_type": "markdown",
   "metadata": {},
   "source": [
    "# Eval dataset for solution"
   ]
  },
  {
   "cell_type": "code",
   "execution_count": 116,
   "metadata": {},
   "outputs": [
    {
     "data": {
      "text/html": [
       "<div>\n",
       "<style scoped>\n",
       "    .dataframe tbody tr th:only-of-type {\n",
       "        vertical-align: middle;\n",
       "    }\n",
       "\n",
       "    .dataframe tbody tr th {\n",
       "        vertical-align: top;\n",
       "    }\n",
       "\n",
       "    .dataframe thead th {\n",
       "        text-align: right;\n",
       "    }\n",
       "</style>\n",
       "<table border=\"1\" class=\"dataframe\">\n",
       "  <thead>\n",
       "    <tr style=\"text-align: right;\">\n",
       "      <th></th>\n",
       "      <th>L</th>\n",
       "      <th>case</th>\n",
       "      <th>sample_1</th>\n",
       "      <th>sample_2</th>\n",
       "      <th>plagiarized</th>\n",
       "      <th>reason</th>\n",
       "    </tr>\n",
       "  </thead>\n",
       "  <tbody>\n",
       "    <tr>\n",
       "      <th>204</th>\n",
       "      <td>3</td>\n",
       "      <td>4</td>\n",
       "      <td>public class T4 {\\n\\tpublic static void main(S...</td>\n",
       "      <td>/**\\n *\\n * @author 020A6EC1A4D0C5BDB29FF826A4...</td>\n",
       "      <td>True</td>\n",
       "      <td>None</td>\n",
       "    </tr>\n",
       "    <tr>\n",
       "      <th>305</th>\n",
       "      <td>6</td>\n",
       "      <td>2</td>\n",
       "      <td>import java.util.Scanner;\\n\\npublic class T2 {...</td>\n",
       "      <td>import java.util.Scanner;\\n\\n\\npublic class in...</td>\n",
       "      <td>True</td>\n",
       "      <td>None</td>\n",
       "    </tr>\n",
       "    <tr>\n",
       "      <th>267</th>\n",
       "      <td>7</td>\n",
       "      <td>3</td>\n",
       "      <td>import java.util.Scanner;\\n\\npublic class T3 {...</td>\n",
       "      <td>/*\\n * To change this license header, choose L...</td>\n",
       "      <td>True</td>\n",
       "      <td>None</td>\n",
       "    </tr>\n",
       "    <tr>\n",
       "      <th>58</th>\n",
       "      <td>0</td>\n",
       "      <td>6</td>\n",
       "      <td>public class T6 {\\n\\tpublic static void main(S...</td>\n",
       "      <td>import java.util.Scanner;\\npublic class T06\\n{...</td>\n",
       "      <td>False</td>\n",
       "      <td>None</td>\n",
       "    </tr>\n",
       "    <tr>\n",
       "      <th>20</th>\n",
       "      <td>4</td>\n",
       "      <td>7</td>\n",
       "      <td>import java.util.Scanner;\\n\\npublic class T7 {...</td>\n",
       "      <td>import java.util.Scanner;\\n\\n/*\\n * To change ...</td>\n",
       "      <td>True</td>\n",
       "      <td>None</td>\n",
       "    </tr>\n",
       "    <tr>\n",
       "      <th>19</th>\n",
       "      <td>3</td>\n",
       "      <td>7</td>\n",
       "      <td>import java.util.Scanner;\\n\\npublic class T7 {...</td>\n",
       "      <td>import java.util.Scanner;\\n\\n/**\\n *\\n * @auth...</td>\n",
       "      <td>True</td>\n",
       "      <td>None</td>\n",
       "    </tr>\n",
       "    <tr>\n",
       "      <th>8</th>\n",
       "      <td>0</td>\n",
       "      <td>7</td>\n",
       "      <td>import java.util.Scanner;\\n\\npublic class T7 {...</td>\n",
       "      <td>import java.util.Scanner;\\n/**\\n *\\n * @author...</td>\n",
       "      <td>False</td>\n",
       "      <td>None</td>\n",
       "    </tr>\n",
       "    <tr>\n",
       "      <th>41</th>\n",
       "      <td>6</td>\n",
       "      <td>7</td>\n",
       "      <td>import java.util.Scanner;\\n\\npublic class T7 {...</td>\n",
       "      <td>import java.util.Scanner;\\n\\n/*\\n * To change ...</td>\n",
       "      <td>True</td>\n",
       "      <td>None</td>\n",
       "    </tr>\n",
       "    <tr>\n",
       "      <th>212</th>\n",
       "      <td>3</td>\n",
       "      <td>4</td>\n",
       "      <td>public class T4 {\\n\\tpublic static void main(S...</td>\n",
       "      <td>/**\\n *\\n * @author 020A6EC1A4D0C5BDB29FF826A4...</td>\n",
       "      <td>True</td>\n",
       "      <td>None</td>\n",
       "    </tr>\n",
       "    <tr>\n",
       "      <th>62</th>\n",
       "      <td>0</td>\n",
       "      <td>6</td>\n",
       "      <td>public class T6 {\\n\\tpublic static void main(S...</td>\n",
       "      <td>/*\\n * To change this license header, choose L...</td>\n",
       "      <td>False</td>\n",
       "      <td>None</td>\n",
       "    </tr>\n",
       "    <tr>\n",
       "      <th>9</th>\n",
       "      <td>0</td>\n",
       "      <td>7</td>\n",
       "      <td>import java.util.Scanner;\\n\\npublic class T7 {...</td>\n",
       "      <td>import java.util.Scanner;\\n\\n/*\\n * To change ...</td>\n",
       "      <td>False</td>\n",
       "      <td>None</td>\n",
       "    </tr>\n",
       "    <tr>\n",
       "      <th>104</th>\n",
       "      <td>8</td>\n",
       "      <td>6</td>\n",
       "      <td>public class T6 {\\n\\tpublic static void main(S...</td>\n",
       "      <td>/*\\n * To change this license header, choose L...</td>\n",
       "      <td>True</td>\n",
       "      <td>None</td>\n",
       "    </tr>\n",
       "    <tr>\n",
       "      <th>350</th>\n",
       "      <td>3</td>\n",
       "      <td>5</td>\n",
       "      <td>public class T5 {\\n\\tpublic static void main(S...</td>\n",
       "      <td>/**\\n *\\n * @author 020A6EC1A4D0C5BDB29FF826A4...</td>\n",
       "      <td>True</td>\n",
       "      <td>None</td>\n",
       "    </tr>\n",
       "    <tr>\n",
       "      <th>75</th>\n",
       "      <td>6</td>\n",
       "      <td>6</td>\n",
       "      <td>public class T6 {\\n\\tpublic static void main(S...</td>\n",
       "      <td>/*\\n * To change this license header, choose L...</td>\n",
       "      <td>True</td>\n",
       "      <td>None</td>\n",
       "    </tr>\n",
       "    <tr>\n",
       "      <th>372</th>\n",
       "      <td>8</td>\n",
       "      <td>5</td>\n",
       "      <td>public class T5 {\\n\\tpublic static void main(S...</td>\n",
       "      <td>/*\\n * To change this license header, choose L...</td>\n",
       "      <td>True</td>\n",
       "      <td>None</td>\n",
       "    </tr>\n",
       "  </tbody>\n",
       "</table>\n",
       "</div>"
      ],
      "text/plain": [
       "     L  case                                           sample_1  \\\n",
       "204  3     4  public class T4 {\\n\\tpublic static void main(S...   \n",
       "305  6     2  import java.util.Scanner;\\n\\npublic class T2 {...   \n",
       "267  7     3  import java.util.Scanner;\\n\\npublic class T3 {...   \n",
       "58   0     6  public class T6 {\\n\\tpublic static void main(S...   \n",
       "20   4     7  import java.util.Scanner;\\n\\npublic class T7 {...   \n",
       "19   3     7  import java.util.Scanner;\\n\\npublic class T7 {...   \n",
       "8    0     7  import java.util.Scanner;\\n\\npublic class T7 {...   \n",
       "41   6     7  import java.util.Scanner;\\n\\npublic class T7 {...   \n",
       "212  3     4  public class T4 {\\n\\tpublic static void main(S...   \n",
       "62   0     6  public class T6 {\\n\\tpublic static void main(S...   \n",
       "9    0     7  import java.util.Scanner;\\n\\npublic class T7 {...   \n",
       "104  8     6  public class T6 {\\n\\tpublic static void main(S...   \n",
       "350  3     5  public class T5 {\\n\\tpublic static void main(S...   \n",
       "75   6     6  public class T6 {\\n\\tpublic static void main(S...   \n",
       "372  8     5  public class T5 {\\n\\tpublic static void main(S...   \n",
       "\n",
       "                                              sample_2  plagiarized reason  \n",
       "204  /**\\n *\\n * @author 020A6EC1A4D0C5BDB29FF826A4...         True   None  \n",
       "305  import java.util.Scanner;\\n\\n\\npublic class in...         True   None  \n",
       "267  /*\\n * To change this license header, choose L...         True   None  \n",
       "58   import java.util.Scanner;\\npublic class T06\\n{...        False   None  \n",
       "20   import java.util.Scanner;\\n\\n/*\\n * To change ...         True   None  \n",
       "19   import java.util.Scanner;\\n\\n/**\\n *\\n * @auth...         True   None  \n",
       "8    import java.util.Scanner;\\n/**\\n *\\n * @author...        False   None  \n",
       "41   import java.util.Scanner;\\n\\n/*\\n * To change ...         True   None  \n",
       "212  /**\\n *\\n * @author 020A6EC1A4D0C5BDB29FF826A4...         True   None  \n",
       "62   /*\\n * To change this license header, choose L...        False   None  \n",
       "9    import java.util.Scanner;\\n\\n/*\\n * To change ...        False   None  \n",
       "104  /*\\n * To change this license header, choose L...         True   None  \n",
       "350  /**\\n *\\n * @author 020A6EC1A4D0C5BDB29FF826A4...         True   None  \n",
       "75   /*\\n * To change this license header, choose L...         True   None  \n",
       "372  /*\\n * To change this license header, choose L...         True   None  "
      ]
     },
     "execution_count": 116,
     "metadata": {},
     "output_type": "execute_result"
    }
   ],
   "source": [
    "eval_df = build_eval_dataset(DATA_FOLDER)\n",
    "eval_df.sample(15)"
   ]
  },
  {
   "cell_type": "code",
   "execution_count": 162,
   "metadata": {},
   "outputs": [],
   "source": [
    "df = pd.read_csv(\"data/train.tsv\", sep=\"\\t\")\n",
    "df = df.sample(frac=1, random_state=1337).reset_index(drop=True)"
   ]
  },
  {
   "cell_type": "code",
   "execution_count": 210,
   "metadata": {},
   "outputs": [],
   "source": [
    "lm = dspy.AzureOpenAI(\n",
    "    api_base=AZURE_OPENAI_ENDPOINT,\n",
    "    api_version=AZURE_OPENAI_VERSION,\n",
    "    deployment_id=AZURE_OPENAI_DEPLOYMENT,\n",
    "    api_key=AZURE_OPENAI_KEY,\n",
    ")\n",
    "dspy.settings.configure(lm=lm)\n",
    "\n",
    "\n",
    "def create_example(row: pd.Series) -> dspy.Example:\n",
    "    return dspy.Example(\n",
    "        code_sample_1=row[\"sample_1\"],\n",
    "        code_sample_2=row[\"sample_2\"],\n",
    "        plagiarized=\"Yes\" if row[\"plagiarized\"] else \"No\",\n",
    "        explanation=row[\"reason\"],\n",
    "    ).with_inputs(\"code_sample_1\", \"code_sample_2\")\n",
    "\n",
    "\n",
    "# Assuming df is your original DataFrame\n",
    "train_size = int(0.8 * len(df))\n",
    "\n",
    "train_examples = []\n",
    "test_examples = []\n",
    "\n",
    "for i, row in df.iterrows():\n",
    "    example = create_example(row)\n",
    "    if i < train_size:\n",
    "        train_examples.append(example)\n",
    "    else:\n",
    "        test_examples.append(example)"
   ]
  },
  {
   "cell_type": "code",
   "execution_count": 214,
   "metadata": {},
   "outputs": [
    {
     "name": "stderr",
     "output_type": "stream",
     "text": [
      "  0%|          | 0/50 [00:00<?, ?it/s]"
     ]
    },
    {
     "name": "stdout",
     "output_type": "stream",
     "text": [
      "Pred: Yes | Actual: No | Match: False\n",
      "Pred: Code Sample 1: import java.util.Scanner; public class T7 { public static void main(String[] args) { Scanner input = new Scanner(System.in); System.out.print(\"Enter a 4 by 4 matrix row by row: \"); double[][] m = new double[4][4]; for (int i = 0; i < 4; i++) | Actual: Yes | Match: False\n",
      "Pred: Yes | Actual: No | Match: False\n",
      "Pred: No | Actual: Yes | Match: False\n",
      "Pred: No | Actual: Yes | Match: False\n",
      "Pred: Yes | Actual: Yes | Match: True\n",
      "Pred: No | Actual: No | Match: True\n",
      "Pred: Yes | Actual: Yes | Match: True\n",
      "Pred: No | Actual: No | Match: True\n",
      "Pred: Yes | Actual: Yes | Match: True\n",
      "Pred: Yes | Actual: Yes | Match: True\n",
      "Pred: Yes | Actual: Yes | Match: True\n",
      "Pred: Plagiarized: No | Actual: No | Match: False\n"
     ]
    },
    {
     "name": "stderr",
     "output_type": "stream",
     "text": [
      " 28%|██▊       | 14/50 [00:03<00:10,  3.56it/s]"
     ]
    },
    {
     "name": "stdout",
     "output_type": "stream",
     "text": [
      "Pred: Yes | Actual: Yes | Match: True\n",
      "Bootstrapped 8 full traces after 15 examples in round 0.\n"
     ]
    },
    {
     "name": "stderr",
     "output_type": "stream",
     "text": [
      "\n"
     ]
    }
   ],
   "source": [
    "class Signature(dspy.Signature):\n",
    "    \"\"\"Detect if two code samples are plagiarized. In plagiarized field answer only : Yes if the code samples are plagiarized, No otherwise. In explenation field add the reason why the code samples are/ are not plagiarized.\"\"\"\n",
    "\n",
    "    code_sample_1 = dspy.InputField(desc=\"The first code sample to compare\")\n",
    "    code_sample_2 = dspy.InputField(desc=\"The second code sample to compare\")\n",
    "    explanation = dspy.OutputField(\n",
    "        desc=\"Explanation or reason why the code samples are/ are not plagiarized\"\n",
    "    )\n",
    "    plagiarized = dspy.OutputField(\n",
    "        desc=\"Yes/No indicating if code samples are plagiarized\"\n",
    "    )\n",
    "\n",
    "\n",
    "class CoT(dspy.Module):\n",
    "    def __init__(self) -> None:\n",
    "        super().__init__()\n",
    "        self.prog = dspy.ChainOfThought(Signature)\n",
    "\n",
    "    def forward(self, code_sample_1: str, code_sample_2: str) -> Signature:\n",
    "        return self.prog(code_sample_1=code_sample_1, code_sample_2=code_sample_2)\n",
    "\n",
    "\n",
    "def validate_answer(\n",
    "    example: dspy.Example, pred: Signature, trace: object = None\n",
    ") -> bool:\n",
    "    score = True if pred.plagiarized.lower() == example.plagiarized.lower() else False\n",
    "    print(f\"Pred: {pred.plagiarized} | Actual: {example.plagiarized} | Match: {score}\")\n",
    "    return score\n",
    "\n",
    "\n",
    "config = {\"max_bootstrapped_demos\": 8, \"max_labeled_demos\": 8}\n",
    "\n",
    "teleprompter = BootstrapFewShot(metric=validate_answer, **config)\n",
    "optimized_cot = teleprompter.compile(CoT(), trainset=train_examples)\n",
    "# CoT()(train_examples[0].code_sample_1, train_examples[0].code_sample_2)"
   ]
  },
  {
   "cell_type": "code",
   "execution_count": 215,
   "metadata": {},
   "outputs": [
    {
     "name": "stderr",
     "output_type": "stream",
     "text": [
      "Average Metric: 1 / 1  (100.0):   8%|▊         | 1/13 [00:02<00:31,  2.59s/it]"
     ]
    },
    {
     "name": "stdout",
     "output_type": "stream",
     "text": [
      "Pred: No | Actual: No | Match: True\n"
     ]
    },
    {
     "name": "stderr",
     "output_type": "stream",
     "text": [
      "Average Metric: 1 / 2  (50.0):  15%|█▌        | 2/13 [00:03<00:15,  1.45s/it] "
     ]
    },
    {
     "name": "stdout",
     "output_type": "stream",
     "text": [
      "Pred: No | Actual: Yes | Match: False\n"
     ]
    },
    {
     "name": "stderr",
     "output_type": "stream",
     "text": [
      "Average Metric: 2 / 4  (50.0):  23%|██▎       | 3/13 [00:03<00:10,  1.01s/it]"
     ]
    },
    {
     "name": "stdout",
     "output_type": "stream",
     "text": [
      "Pred: No | Actual: No | Match: TruePred: Yes | Actual: No | Match: False\n",
      "\n"
     ]
    },
    {
     "name": "stderr",
     "output_type": "stream",
     "text": [
      "Average Metric: 3 / 5  (60.0):  38%|███▊      | 5/13 [00:05<00:07,  1.08it/s]"
     ]
    },
    {
     "name": "stdout",
     "output_type": "stream",
     "text": [
      "Pred: Yes | Actual: Yes | Match: True\n"
     ]
    },
    {
     "name": "stderr",
     "output_type": "stream",
     "text": [
      "Average Metric: 4 / 6  (66.7):  46%|████▌     | 6/13 [00:05<00:05,  1.33it/s]"
     ]
    },
    {
     "name": "stdout",
     "output_type": "stream",
     "text": [
      "Pred: Yes | Actual: Yes | Match: True\n"
     ]
    },
    {
     "name": "stderr",
     "output_type": "stream",
     "text": [
      "Average Metric: 5 / 7  (71.4):  54%|█████▍    | 7/13 [00:06<00:04,  1.35it/s]"
     ]
    },
    {
     "name": "stdout",
     "output_type": "stream",
     "text": [
      "Pred: Yes | Actual: Yes | Match: True\n"
     ]
    },
    {
     "name": "stderr",
     "output_type": "stream",
     "text": [
      "Average Metric: 7 / 9  (77.8):  62%|██████▏   | 8/13 [00:07<00:04,  1.18it/s]"
     ]
    },
    {
     "name": "stdout",
     "output_type": "stream",
     "text": [
      "Pred: Yes | Actual: Yes | Match: True\n",
      "Pred: Yes | Actual: Yes | Match: True\n"
     ]
    },
    {
     "name": "stderr",
     "output_type": "stream",
     "text": [
      "Average Metric: 8 / 10  (80.0):  77%|███████▋  | 10/13 [00:07<00:01,  1.88it/s]"
     ]
    },
    {
     "name": "stdout",
     "output_type": "stream",
     "text": [
      "Pred: Yes | Actual: Yes | Match: True\n"
     ]
    },
    {
     "name": "stderr",
     "output_type": "stream",
     "text": [
      "Average Metric: 9 / 11  (81.8):  85%|████████▍ | 11/13 [00:09<00:01,  1.47it/s]"
     ]
    },
    {
     "name": "stdout",
     "output_type": "stream",
     "text": [
      "Pred: No | Actual: No | Match: True\n"
     ]
    },
    {
     "name": "stderr",
     "output_type": "stream",
     "text": [
      "Average Metric: 10 / 12  (83.3):  92%|█████████▏| 12/13 [00:10<00:00,  1.17it/s]"
     ]
    },
    {
     "name": "stdout",
     "output_type": "stream",
     "text": [
      "Pred: Yes | Actual: Yes | Match: True\n"
     ]
    },
    {
     "name": "stderr",
     "output_type": "stream",
     "text": [
      "Average Metric: 11 / 13  (84.6): 100%|██████████| 13/13 [00:10<00:00,  1.18it/s]"
     ]
    },
    {
     "name": "stdout",
     "output_type": "stream",
     "text": [
      "Pred: Yes | Actual: Yes | Match: True\n"
     ]
    },
    {
     "name": "stderr",
     "output_type": "stream",
     "text": [
      "\n"
     ]
    },
    {
     "data": {
      "text/plain": [
       "84.62"
      ]
     },
     "execution_count": 215,
     "metadata": {},
     "output_type": "execute_result"
    }
   ],
   "source": [
    "# Set up the evaluator, which can be used multiple times.\n",
    "evaluate = Evaluate(\n",
    "    devset=test_examples,\n",
    "    metric=validate_answer,\n",
    "    num_threads=4,\n",
    "    display_progress=True,\n",
    "    display_table=0,\n",
    ")\n",
    "\n",
    "# Evaluate our `optimized_cot` program.\n",
    "evaluate(optimized_cot)"
   ]
  }
 ],
 "metadata": {
  "kernelspec": {
   "display_name": "dspy",
   "language": "python",
   "name": "python3"
  },
  "language_info": {
   "codemirror_mode": {
    "name": "ipython",
    "version": 3
   },
   "file_extension": ".py",
   "mimetype": "text/x-python",
   "name": "python",
   "nbconvert_exporter": "python",
   "pygments_lexer": "ipython3",
   "version": "3.12.3"
  }
 },
 "nbformat": 4,
 "nbformat_minor": 2
}
